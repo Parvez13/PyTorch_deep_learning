{
  "nbformat": 4,
  "nbformat_minor": 0,
  "metadata": {
    "colab": {
      "provenance": [],
      "collapsed_sections": []
    },
    "kernelspec": {
      "name": "python3",
      "display_name": "Python 3"
    },
    "language_info": {
      "name": "python"
    }
  },
  "cells": [
    {
      "cell_type": "code",
      "execution_count": 22,
      "metadata": {
        "id": "m15k4Zxd0wNC",
        "colab": {
          "base_uri": "https://localhost:8080/",
          "height": 36
        },
        "outputId": "0e523352-7995-48f1-d98a-5fe8d3324b56"
      },
      "outputs": [
        {
          "output_type": "execute_result",
          "data": {
            "text/plain": [
              "'1.12.1+cu113'"
            ],
            "application/vnd.google.colaboratory.intrinsic+json": {
              "type": "string"
            }
          },
          "metadata": {},
          "execution_count": 22
        }
      ],
      "source": [
        "import torch\n",
        "torch.__version__"
      ]
    },
    {
      "cell_type": "code",
      "source": [
        "from torch import nn"
      ],
      "metadata": {
        "id": "JsjV5g1JJTB1"
      },
      "execution_count": 23,
      "outputs": []
    },
    {
      "cell_type": "markdown",
      "source": [
        "## 1.Data(preparing and loading)\n"
      ],
      "metadata": {
        "id": "LfqxUpyIJ8UX"
      }
    },
    {
      "cell_type": "code",
      "source": [
        "# Create parameters\n",
        "weight = 0.7\n",
        "bias = 0.3\n",
        "\n",
        "# create data\n",
        "start = 0\n",
        "end = 1\n",
        "step = 0.02\n",
        "\n",
        "X = torch.arange(start, end, step).unsqueeze(dim=1)\n",
        "y = weight * X + bias\n",
        "\n",
        "X[:10], y[:10]"
      ],
      "metadata": {
        "colab": {
          "base_uri": "https://localhost:8080/"
        },
        "id": "WodHC33jJsCc",
        "outputId": "9b4d5839-81b0-461d-a18e-dc03f2f049da"
      },
      "execution_count": 24,
      "outputs": [
        {
          "output_type": "execute_result",
          "data": {
            "text/plain": [
              "(tensor([[0.0000],\n",
              "         [0.0200],\n",
              "         [0.0400],\n",
              "         [0.0600],\n",
              "         [0.0800],\n",
              "         [0.1000],\n",
              "         [0.1200],\n",
              "         [0.1400],\n",
              "         [0.1600],\n",
              "         [0.1800]]), tensor([[0.3000],\n",
              "         [0.3140],\n",
              "         [0.3280],\n",
              "         [0.3420],\n",
              "         [0.3560],\n",
              "         [0.3700],\n",
              "         [0.3840],\n",
              "         [0.3980],\n",
              "         [0.4120],\n",
              "         [0.4260]]))"
            ]
          },
          "metadata": {},
          "execution_count": 24
        }
      ]
    },
    {
      "cell_type": "markdown",
      "source": [
        "### Splitting data into training and test sets"
      ],
      "metadata": {
        "id": "YnwC_679LFHh"
      }
    },
    {
      "cell_type": "code",
      "source": [
        "train_split = int(0.8 * len(X))\n",
        "X_train, y_train = X[:train_split], y[:train_split]\n",
        "X_test, y_test = X[train_split:], y[train_split:]\n",
        "\n",
        "len(X_train), len(y_train), len(X_test), len(y_test)"
      ],
      "metadata": {
        "colab": {
          "base_uri": "https://localhost:8080/"
        },
        "id": "I-a0N0F_KzH7",
        "outputId": "3f95b463-4fbe-4480-9c01-5f0a0c494476"
      },
      "execution_count": 25,
      "outputs": [
        {
          "output_type": "execute_result",
          "data": {
            "text/plain": [
              "(40, 40, 10, 10)"
            ]
          },
          "metadata": {},
          "execution_count": 25
        }
      ]
    },
    {
      "cell_type": "markdown",
      "source": [
        "## 2.Build model"
      ],
      "metadata": {
        "id": "0-kc8oN4Lnow"
      }
    },
    {
      "cell_type": "code",
      "source": [
        "class LinearRegression(nn.Module):\n",
        "  def __init__(self):\n",
        "    super().__init__()\n",
        "    self.weights = nn.Parameter(torch.randn(1,\n",
        "                                            requires_grad=True,\n",
        "                                            dtype=torch.float))\n",
        "    self.bias = nn.Parameter(torch.randn(1,\n",
        "                                         requires_grad=True,\n",
        "                                         dtype=torch.float))\n",
        "  def forward(self, x:torch.Tensor):\n",
        "    return self.weights * x + self.bias"
      ],
      "metadata": {
        "id": "rbJPn3IqLgJK"
      },
      "execution_count": 26,
      "outputs": []
    },
    {
      "cell_type": "code",
      "source": [
        "# Set manual seed \n",
        "torch.manual_seed(42)\n",
        "\n",
        "# Create an instance of our model\n",
        "model_0 = LinearRegression()\n",
        "\n",
        "list(model_0.parameters())"
      ],
      "metadata": {
        "colab": {
          "base_uri": "https://localhost:8080/"
        },
        "id": "KX5vD6sWMsBI",
        "outputId": "f36eb8d8-2192-45f2-d1f0-651468cfb484"
      },
      "execution_count": 27,
      "outputs": [
        {
          "output_type": "execute_result",
          "data": {
            "text/plain": [
              "[Parameter containing:\n",
              " tensor([0.3367], requires_grad=True), Parameter containing:\n",
              " tensor([0.1288], requires_grad=True)]"
            ]
          },
          "metadata": {},
          "execution_count": 27
        }
      ]
    },
    {
      "cell_type": "code",
      "source": [
        "model_0.state_dict()"
      ],
      "metadata": {
        "colab": {
          "base_uri": "https://localhost:8080/"
        },
        "id": "vMjUqxKqNqrG",
        "outputId": "dd9bd596-30df-411b-ac7f-0f9e62de2ee6"
      },
      "execution_count": 28,
      "outputs": [
        {
          "output_type": "execute_result",
          "data": {
            "text/plain": [
              "OrderedDict([('weights', tensor([0.3367])), ('bias', tensor([0.1288]))])"
            ]
          },
          "metadata": {},
          "execution_count": 28
        }
      ]
    },
    {
      "cell_type": "code",
      "source": [
        "with torch.inference_mode():\n",
        "  y_preds = model_0(X_test)\n",
        "\n",
        "y_preds"
      ],
      "metadata": {
        "colab": {
          "base_uri": "https://localhost:8080/"
        },
        "id": "2CtyNUDgUNZG",
        "outputId": "fd7af55d-88e7-4892-f6a5-1e6f64943117"
      },
      "execution_count": 29,
      "outputs": [
        {
          "output_type": "execute_result",
          "data": {
            "text/plain": [
              "tensor([[0.3982],\n",
              "        [0.4049],\n",
              "        [0.4116],\n",
              "        [0.4184],\n",
              "        [0.4251],\n",
              "        [0.4318],\n",
              "        [0.4386],\n",
              "        [0.4453],\n",
              "        [0.4520],\n",
              "        [0.4588]])"
            ]
          },
          "metadata": {},
          "execution_count": 29
        }
      ]
    },
    {
      "cell_type": "code",
      "source": [
        "y_test"
      ],
      "metadata": {
        "colab": {
          "base_uri": "https://localhost:8080/"
        },
        "id": "2eWLqS7EUa4V",
        "outputId": "f7ca6e8f-51dd-4376-81b4-210306f771a7"
      },
      "execution_count": 30,
      "outputs": [
        {
          "output_type": "execute_result",
          "data": {
            "text/plain": [
              "tensor([[0.8600],\n",
              "        [0.8740],\n",
              "        [0.8880],\n",
              "        [0.9020],\n",
              "        [0.9160],\n",
              "        [0.9300],\n",
              "        [0.9440],\n",
              "        [0.9580],\n",
              "        [0.9720],\n",
              "        [0.9860]])"
            ]
          },
          "metadata": {},
          "execution_count": 30
        }
      ]
    },
    {
      "cell_type": "code",
      "source": [
        "loss_fn = nn.L1Loss()\n",
        "\n",
        "optimizer = torch.optim.SGD(params=model_0.parameters(),\n",
        "                            lr=0.01)"
      ],
      "metadata": {
        "id": "usvk4-MJOPY4"
      },
      "execution_count": 31,
      "outputs": []
    },
    {
      "cell_type": "markdown",
      "source": [
        "## 3.Model Training"
      ],
      "metadata": {
        "id": "qLS_ij_jmekU"
      }
    },
    {
      "cell_type": "code",
      "source": [
        "epochs = 100\n",
        "\n",
        "train_loss_values = []\n",
        "test_loss_values = []\n",
        "epoch_count = []\n",
        "\n",
        "\n",
        "# Loop through data\n",
        "for epoch in range(epochs):\n",
        "  # Set training mode\n",
        "  model_0.train()\n",
        "\n",
        "  # 1. Forward pass\n",
        "  y_pred = model_0(X_train)\n",
        "\n",
        "  # 2. Loss function\n",
        "  loss = loss_fn(y_pred, y_train)\n",
        "\n",
        "  # 3. optimizer(zero_grad)(Get to zero)\n",
        "  optimizer.zero_grad()\n",
        "\n",
        "  # 4. Backword propagation\n",
        "  loss.backward()\n",
        "\n",
        "  # 5. Optimizers.step\n",
        "  optimizer.step()\n",
        "\n",
        "  ### Testing \n",
        "  \n",
        "  # Set model evaluation mode\n",
        "  model_0.eval()\n",
        "\n",
        "  with torch.inference_mode():\n",
        "\n",
        "    # 1. forward pass\n",
        "    test_pred = model_0(X_test)\n",
        "\n",
        "    # 2. Calculate loss\n",
        "    test_loss = loss_fn(test_pred, y_test.type(torch.float))\n",
        "\n",
        "    if epochs % 10 == 0:\n",
        "      epoch_count.append(epoch)\n",
        "      train_loss_values.append(loss.detach().numpy())\n",
        "      test_loss_values.append(test_loss.detach().numpy())\n",
        "      print(f\"Epoch: {epoch} | MAE Train Loss: {loss} | MAE Test Loss: {test_loss} \")\n",
        "\n"
      ],
      "metadata": {
        "colab": {
          "base_uri": "https://localhost:8080/"
        },
        "id": "U7rKs-2Dcvgh",
        "outputId": "ada29be9-bc71-4aaf-fc98-d1e1359ffcf7"
      },
      "execution_count": 36,
      "outputs": [
        {
          "output_type": "stream",
          "name": "stdout",
          "text": [
            "Epoch: 0 | MAE Train Loss: 0.31288138031959534 | MAE Test Loss: 0.48106518387794495 \n",
            "Epoch: 1 | MAE Train Loss: 0.3013603389263153 | MAE Test Loss: 0.4675942063331604 \n",
            "Epoch: 2 | MAE Train Loss: 0.28983935713768005 | MAE Test Loss: 0.4541231691837311 \n",
            "Epoch: 3 | MAE Train Loss: 0.2783183455467224 | MAE Test Loss: 0.44065219163894653 \n",
            "Epoch: 4 | MAE Train Loss: 0.26679736375808716 | MAE Test Loss: 0.4271811842918396 \n",
            "Epoch: 5 | MAE Train Loss: 0.2552763521671295 | MAE Test Loss: 0.41371020674705505 \n",
            "Epoch: 6 | MAE Train Loss: 0.24375534057617188 | MAE Test Loss: 0.40023916959762573 \n",
            "Epoch: 7 | MAE Train Loss: 0.23223432898521423 | MAE Test Loss: 0.3867681920528412 \n",
            "Epoch: 8 | MAE Train Loss: 0.22071333229541779 | MAE Test Loss: 0.37329721450805664 \n",
            "Epoch: 9 | MAE Train Loss: 0.20919232070446014 | MAE Test Loss: 0.3598262071609497 \n",
            "Epoch: 10 | MAE Train Loss: 0.1976713240146637 | MAE Test Loss: 0.3463551998138428 \n",
            "Epoch: 11 | MAE Train Loss: 0.18615034222602844 | MAE Test Loss: 0.3328842222690582 \n",
            "Epoch: 12 | MAE Train Loss: 0.1746293306350708 | MAE Test Loss: 0.3194132149219513 \n",
            "Epoch: 13 | MAE Train Loss: 0.16310831904411316 | MAE Test Loss: 0.30594223737716675 \n",
            "Epoch: 14 | MAE Train Loss: 0.1515873372554779 | MAE Test Loss: 0.2924712300300598 \n",
            "Epoch: 15 | MAE Train Loss: 0.14006635546684265 | MAE Test Loss: 0.27900025248527527 \n",
            "Epoch: 16 | MAE Train Loss: 0.1285453587770462 | MAE Test Loss: 0.2655292749404907 \n",
            "Epoch: 17 | MAE Train Loss: 0.11702437698841095 | MAE Test Loss: 0.2520582973957062 \n",
            "Epoch: 18 | MAE Train Loss: 0.1060912236571312 | MAE Test Loss: 0.2395961582660675 \n",
            "Epoch: 19 | MAE Train Loss: 0.09681284427642822 | MAE Test Loss: 0.22817862033843994 \n",
            "Epoch: 20 | MAE Train Loss: 0.08908725529909134 | MAE Test Loss: 0.21729660034179688 \n",
            "Epoch: 21 | MAE Train Loss: 0.08227583020925522 | MAE Test Loss: 0.2069590985774994 \n",
            "Epoch: 22 | MAE Train Loss: 0.07638873159885406 | MAE Test Loss: 0.19773726165294647 \n",
            "Epoch: 23 | MAE Train Loss: 0.07160007208585739 | MAE Test Loss: 0.1890866756439209 \n",
            "Epoch: 24 | MAE Train Loss: 0.06747635453939438 | MAE Test Loss: 0.18101617693901062 \n",
            "Epoch: 25 | MAE Train Loss: 0.06395438313484192 | MAE Test Loss: 0.17353470623493195 \n",
            "Epoch: 26 | MAE Train Loss: 0.06097004935145378 | MAE Test Loss: 0.16665108501911163 \n",
            "Epoch: 27 | MAE Train Loss: 0.05845819041132927 | MAE Test Loss: 0.16037428379058838 \n",
            "Epoch: 28 | MAE Train Loss: 0.05635259300470352 | MAE Test Loss: 0.15471318364143372 \n",
            "Epoch: 29 | MAE Train Loss: 0.0545857772231102 | MAE Test Loss: 0.14967669546604156 \n",
            "Epoch: 30 | MAE Train Loss: 0.053148526698350906 | MAE Test Loss: 0.14464017748832703 \n",
            "Epoch: 31 | MAE Train Loss: 0.05181945487856865 | MAE Test Loss: 0.14023718237876892 \n",
            "Epoch: 32 | MAE Train Loss: 0.05069301277399063 | MAE Test Loss: 0.13647659122943878 \n",
            "Epoch: 33 | MAE Train Loss: 0.0498228520154953 | MAE Test Loss: 0.13271598517894745 \n",
            "Epoch: 34 | MAE Train Loss: 0.04895269125699997 | MAE Test Loss: 0.12895536422729492 \n",
            "Epoch: 35 | MAE Train Loss: 0.04819351062178612 | MAE Test Loss: 0.12584610283374786 \n",
            "Epoch: 36 | MAE Train Loss: 0.047531817108392715 | MAE Test Loss: 0.12273679673671722 \n",
            "Epoch: 37 | MAE Train Loss: 0.04692792519927025 | MAE Test Loss: 0.1202877014875412 \n",
            "Epoch: 38 | MAE Train Loss: 0.04642331600189209 | MAE Test Loss: 0.11783860623836517 \n",
            "Epoch: 39 | MAE Train Loss: 0.04591871052980423 | MAE Test Loss: 0.11538954079151154 \n",
            "Epoch: 40 | MAE Train Loss: 0.04543796554207802 | MAE Test Loss: 0.11360953003168106 \n",
            "Epoch: 41 | MAE Train Loss: 0.04503796249628067 | MAE Test Loss: 0.11182951927185059 \n",
            "Epoch: 42 | MAE Train Loss: 0.04463795945048332 | MAE Test Loss: 0.1100495308637619 \n",
            "Epoch: 43 | MAE Train Loss: 0.04423796385526657 | MAE Test Loss: 0.10826952755451202 \n",
            "Epoch: 44 | MAE Train Loss: 0.04383796453475952 | MAE Test Loss: 0.10648951679468155 \n",
            "Epoch: 45 | MAE Train Loss: 0.04343796148896217 | MAE Test Loss: 0.10470950603485107 \n",
            "Epoch: 46 | MAE Train Loss: 0.043074630200862885 | MAE Test Loss: 0.10360751301050186 \n",
            "Epoch: 47 | MAE Train Loss: 0.04272563382983208 | MAE Test Loss: 0.10250549018383026 \n",
            "Epoch: 48 | MAE Train Loss: 0.04237663000822067 | MAE Test Loss: 0.10140349715948105 \n",
            "Epoch: 49 | MAE Train Loss: 0.04202762991189957 | MAE Test Loss: 0.10030148178339005 \n",
            "Epoch: 50 | MAE Train Loss: 0.04167863354086876 | MAE Test Loss: 0.09919948130846024 \n",
            "Epoch: 51 | MAE Train Loss: 0.04132963344454765 | MAE Test Loss: 0.09809747338294983 \n",
            "Epoch: 52 | MAE Train Loss: 0.04098063334822655 | MAE Test Loss: 0.09699545800685883 \n",
            "Epoch: 53 | MAE Train Loss: 0.04063162952661514 | MAE Test Loss: 0.09589345753192902 \n",
            "Epoch: 54 | MAE Train Loss: 0.040282636880874634 | MAE Test Loss: 0.0947914719581604 \n",
            "Epoch: 55 | MAE Train Loss: 0.039933640509843826 | MAE Test Loss: 0.09368947893381119 \n",
            "Epoch: 56 | MAE Train Loss: 0.03958464413881302 | MAE Test Loss: 0.09258746355772018 \n",
            "Epoch: 57 | MAE Train Loss: 0.03923564404249191 | MAE Test Loss: 0.09148545563220978 \n",
            "Epoch: 58 | MAE Train Loss: 0.03888664394617081 | MAE Test Loss: 0.09038344770669937 \n",
            "Epoch: 59 | MAE Train Loss: 0.0385376438498497 | MAE Test Loss: 0.08928143978118896 \n",
            "Epoch: 60 | MAE Train Loss: 0.03818932920694351 | MAE Test Loss: 0.08886633068323135 \n",
            "Epoch: 61 | MAE Train Loss: 0.03785243630409241 | MAE Test Loss: 0.08776430785655975 \n",
            "Epoch: 62 | MAE Train Loss: 0.0375034399330616 | MAE Test Loss: 0.08666229248046875 \n",
            "Epoch: 63 | MAE Train Loss: 0.037164121866226196 | MAE Test Loss: 0.08624717593193054 \n",
            "Epoch: 64 | MAE Train Loss: 0.03681822493672371 | MAE Test Loss: 0.08514519035816193 \n",
            "Epoch: 65 | MAE Train Loss: 0.03647511452436447 | MAE Test Loss: 0.08473004400730133 \n",
            "Epoch: 66 | MAE Train Loss: 0.03613303601741791 | MAE Test Loss: 0.08362803608179092 \n",
            "Epoch: 67 | MAE Train Loss: 0.03578609973192215 | MAE Test Loss: 0.08321291208267212 \n",
            "Epoch: 68 | MAE Train Loss: 0.03544783592224121 | MAE Test Loss: 0.08211090415716171 \n",
            "Epoch: 69 | MAE Train Loss: 0.035098835825920105 | MAE Test Loss: 0.0810088962316513 \n",
            "Epoch: 70 | MAE Train Loss: 0.03476089984178543 | MAE Test Loss: 0.0805937647819519 \n",
            "Epoch: 71 | MAE Train Loss: 0.03441363573074341 | MAE Test Loss: 0.0794917643070221 \n",
            "Epoch: 72 | MAE Train Loss: 0.03407188132405281 | MAE Test Loss: 0.07907666265964508 \n",
            "Epoch: 73 | MAE Train Loss: 0.03372843936085701 | MAE Test Loss: 0.07797462493181229 \n",
            "Epoch: 74 | MAE Train Loss: 0.03338287025690079 | MAE Test Loss: 0.07755951583385468 \n",
            "Epoch: 75 | MAE Train Loss: 0.033043231815099716 | MAE Test Loss: 0.07645749300718307 \n",
            "Epoch: 76 | MAE Train Loss: 0.03269423171877861 | MAE Test Loss: 0.07535548508167267 \n",
            "Epoch: 77 | MAE Train Loss: 0.032357655465602875 | MAE Test Loss: 0.07494036853313446 \n",
            "Epoch: 78 | MAE Train Loss: 0.03200903534889221 | MAE Test Loss: 0.07383836805820465 \n",
            "Epoch: 79 | MAE Train Loss: 0.03166864812374115 | MAE Test Loss: 0.07342323660850525 \n",
            "Epoch: 80 | MAE Train Loss: 0.03132382780313492 | MAE Test Loss: 0.07232122868299484 \n",
            "Epoch: 81 | MAE Train Loss: 0.030979642644524574 | MAE Test Loss: 0.07190609723329544 \n",
            "Epoch: 82 | MAE Train Loss: 0.030638623982667923 | MAE Test Loss: 0.07080408930778503 \n",
            "Epoch: 83 | MAE Train Loss: 0.0302906334400177 | MAE Test Loss: 0.07038896530866623 \n",
            "Epoch: 84 | MAE Train Loss: 0.029953425750136375 | MAE Test Loss: 0.06928696483373642 \n",
            "Epoch: 85 | MAE Train Loss: 0.02960442565381527 | MAE Test Loss: 0.06818496435880661 \n",
            "Epoch: 86 | MAE Train Loss: 0.029265418648719788 | MAE Test Loss: 0.0677698403596878 \n",
            "Epoch: 87 | MAE Train Loss: 0.028919223695993423 | MAE Test Loss: 0.0666678324341774 \n",
            "Epoch: 88 | MAE Train Loss: 0.028576409444212914 | MAE Test Loss: 0.066252700984478 \n",
            "Epoch: 89 | MAE Train Loss: 0.028234025463461876 | MAE Test Loss: 0.06515069305896759 \n",
            "Epoch: 90 | MAE Train Loss: 0.02788739837706089 | MAE Test Loss: 0.06473556160926819 \n",
            "Epoch: 91 | MAE Train Loss: 0.02754882536828518 | MAE Test Loss: 0.06363357603549957 \n",
            "Epoch: 92 | MAE Train Loss: 0.027199819684028625 | MAE Test Loss: 0.06253156810998917 \n",
            "Epoch: 93 | MAE Train Loss: 0.026862185448408127 | MAE Test Loss: 0.062116436660289764 \n",
            "Epoch: 94 | MAE Train Loss: 0.02651461586356163 | MAE Test Loss: 0.061014432460069656 \n",
            "Epoch: 95 | MAE Train Loss: 0.026173178106546402 | MAE Test Loss: 0.06059930846095085 \n",
            "Epoch: 96 | MAE Train Loss: 0.025829419493675232 | MAE Test Loss: 0.05949730426073074 \n",
            "Epoch: 97 | MAE Train Loss: 0.02548416517674923 | MAE Test Loss: 0.05908216908574104 \n",
            "Epoch: 98 | MAE Train Loss: 0.025144213810563087 | MAE Test Loss: 0.057980168610811234 \n",
            "Epoch: 99 | MAE Train Loss: 0.02479521557688713 | MAE Test Loss: 0.05687814950942993 \n"
          ]
        }
      ]
    },
    {
      "cell_type": "code",
      "source": [
        "# epochs = 100\n",
        "\n",
        "# epoch_count = []\n",
        "# train_loss = []\n",
        "# test_loss = []\n",
        "\n",
        "# for epoch in range(epochs):\n",
        "\n",
        "#   # Set training mode\n",
        "#   model_0.train()\n",
        "\n",
        "#   # Forward pass\n",
        "#   y_pred = model_0(X_train)\n",
        "\n",
        "#   # Loss function\n",
        "#   loss = loss_fn(y_pred, y_train)\n",
        "\n",
        "#   # optimizer to go zero_grad()\n",
        "#   optimizer.zero_grad()\n",
        "\n",
        "#   # loss backward\n",
        "#   loss.backward()\n",
        "\n",
        "#   # optimizer step\n",
        "#   optimizer.step()\n",
        "\n",
        "#   # Set testing model\n",
        "#   model_0.eval()\n",
        "\n",
        "#   with torch.inference_mode():\n",
        "#     test_pred = model_0(X_test)\n",
        "\n",
        "#     test_loss = loss_fn(test_pred, y_test)\n",
        "\n",
        "#     if epochs % 10 == 0:\n",
        "#       epoch_count.append(epoch)\n",
        "#       train_loss.append(loss.detach().numpy())\n",
        "#       test_loss.append(test_loss.detach().numpy())\n",
        "\n"
      ],
      "metadata": {
        "id": "2C_tOMFBgMlq"
      },
      "execution_count": null,
      "outputs": []
    },
    {
      "cell_type": "markdown",
      "source": [
        "## 4.Make Predictions"
      ],
      "metadata": {
        "id": "geIWe9lrmmk1"
      }
    },
    {
      "cell_type": "code",
      "source": [
        "model_0.eval()\n",
        "\n",
        "with torch.inference_mode():\n",
        "  y_preds = model_0(X_test)\n",
        "y_preds"
      ],
      "metadata": {
        "colab": {
          "base_uri": "https://localhost:8080/"
        },
        "id": "_35L2j8LlySW",
        "outputId": "7b147e4a-1747-4071-e930-766387d30e89"
      },
      "execution_count": 37,
      "outputs": [
        {
          "output_type": "execute_result",
          "data": {
            "text/plain": [
              "tensor([[0.8141],\n",
              "        [0.8256],\n",
              "        [0.8372],\n",
              "        [0.8488],\n",
              "        [0.8603],\n",
              "        [0.8719],\n",
              "        [0.8835],\n",
              "        [0.8950],\n",
              "        [0.9066],\n",
              "        [0.9182]])"
            ]
          },
          "metadata": {},
          "execution_count": 37
        }
      ]
    },
    {
      "cell_type": "markdown",
      "source": [
        "## 5.Saving and loading a PyTorch  model"
      ],
      "metadata": {
        "id": "UMN8IG7Kmr5g"
      }
    },
    {
      "cell_type": "code",
      "source": [
        "from pathlib import Path \n",
        "\n",
        "# Create models directory\n",
        "MODEL_PATH = Path('models')\n",
        "MODEL_PATH.mkdir(parents=True, exist_ok=True)\n",
        "\n",
        "# Create model save path\n",
        "MODEL_NAME = '01_pytorch_workflow_model_0.pth'\n",
        "MODEL_SAVE_PATH = MODEL_PATH/ MODEL_NAME\n",
        "\n",
        "print(f'Saving model to:{MODEL_SAVE_PATH}')\n",
        "torch.save(obj=model_0.state_dict(),\n",
        "           f=MODEL_SAVE_PATH)"
      ],
      "metadata": {
        "colab": {
          "base_uri": "https://localhost:8080/"
        },
        "id": "BIDAFDEzl55s",
        "outputId": "bc2ce012-5159-46ce-c85d-1e11b54f0729"
      },
      "execution_count": 39,
      "outputs": [
        {
          "output_type": "stream",
          "name": "stdout",
          "text": [
            "Saving model to:models/01_pytorch_workflow_model_0.pth\n"
          ]
        }
      ]
    },
    {
      "cell_type": "code",
      "source": [
        "# from pathlib import Path\n",
        "\n",
        "# model = Path('model')\n",
        "# model.mkdir(parent=True, exist_ok=True)\n",
        "\n",
        "# model_path = 'pytorch_1.pth'\n",
        "# model_save_path = model/model_path\n",
        "\n",
        "# torch.save(model_0.state_dict(), model_save_path)"
      ],
      "metadata": {
        "id": "H1RDxG1jnakP"
      },
      "execution_count": null,
      "outputs": []
    },
    {
      "cell_type": "code",
      "source": [
        "load_model = LinearRegression()\n",
        "\n",
        "load_model.load_state_dict(torch.load(f=MODEL_SAVE_PATH))"
      ],
      "metadata": {
        "colab": {
          "base_uri": "https://localhost:8080/"
        },
        "id": "C5vRsXECoXS7",
        "outputId": "eb5476de-7e02-4361-817c-aa2f26ee979f"
      },
      "execution_count": 42,
      "outputs": [
        {
          "output_type": "execute_result",
          "data": {
            "text/plain": [
              "<All keys matched successfully>"
            ]
          },
          "metadata": {},
          "execution_count": 42
        }
      ]
    },
    {
      "cell_type": "code",
      "source": [
        "load_model.eval()\n",
        "with torch.inference_mode():\n",
        "  loaded_preds = load_model(X_test)\n",
        "loaded_preds"
      ],
      "metadata": {
        "colab": {
          "base_uri": "https://localhost:8080/"
        },
        "id": "FrhGHh0ooeNi",
        "outputId": "4efdb9da-7638-4887-bfff-3fcaef4612d0"
      },
      "execution_count": 43,
      "outputs": [
        {
          "output_type": "execute_result",
          "data": {
            "text/plain": [
              "tensor([[0.8141],\n",
              "        [0.8256],\n",
              "        [0.8372],\n",
              "        [0.8488],\n",
              "        [0.8603],\n",
              "        [0.8719],\n",
              "        [0.8835],\n",
              "        [0.8950],\n",
              "        [0.9066],\n",
              "        [0.9182]])"
            ]
          },
          "metadata": {},
          "execution_count": 43
        }
      ]
    },
    {
      "cell_type": "markdown",
      "source": [
        "# EXERCISES"
      ],
      "metadata": {
        "id": "RDws5OIqphUT"
      }
    },
    {
      "cell_type": "markdown",
      "source": [
        "### 1.Create a straight line dataset using the linear regression formula (weight * X + bias).\n",
        "* Set weight=0.3 and bias=0.9 \n",
        "there should be at least 100 datapoints total.\n",
        "* Split the data into 80% training, 20% testing.\n",
        "* Plot the training and testing data so it becomes visual."
      ],
      "metadata": {
        "id": "lY_3jKMppk8S"
      }
    },
    {
      "cell_type": "code",
      "source": [
        "w = 0.3\n",
        "b = 0.9\n",
        "\n",
        "start = 0.0\n",
        "end = 100.0\n",
        "step = 1.0"
      ],
      "metadata": {
        "id": "AlcL1q8wo0qR"
      },
      "execution_count": 54,
      "outputs": []
    },
    {
      "cell_type": "code",
      "source": [
        "x = torch.arange(start, end, step)\n",
        "x"
      ],
      "metadata": {
        "colab": {
          "base_uri": "https://localhost:8080/"
        },
        "id": "RvebSPRLqDhM",
        "outputId": "d3260327-6a29-446c-9d22-8a74e067cc34"
      },
      "execution_count": 55,
      "outputs": [
        {
          "output_type": "execute_result",
          "data": {
            "text/plain": [
              "tensor([ 0.,  1.,  2.,  3.,  4.,  5.,  6.,  7.,  8.,  9., 10., 11., 12., 13.,\n",
              "        14., 15., 16., 17., 18., 19., 20., 21., 22., 23., 24., 25., 26., 27.,\n",
              "        28., 29., 30., 31., 32., 33., 34., 35., 36., 37., 38., 39., 40., 41.,\n",
              "        42., 43., 44., 45., 46., 47., 48., 49., 50., 51., 52., 53., 54., 55.,\n",
              "        56., 57., 58., 59., 60., 61., 62., 63., 64., 65., 66., 67., 68., 69.,\n",
              "        70., 71., 72., 73., 74., 75., 76., 77., 78., 79., 80., 81., 82., 83.,\n",
              "        84., 85., 86., 87., 88., 89., 90., 91., 92., 93., 94., 95., 96., 97.,\n",
              "        98., 99.])"
            ]
          },
          "metadata": {},
          "execution_count": 55
        }
      ]
    },
    {
      "cell_type": "code",
      "source": [
        "len(x)"
      ],
      "metadata": {
        "colab": {
          "base_uri": "https://localhost:8080/"
        },
        "id": "kKX5k_ArqGzc",
        "outputId": "4b13bf05-f290-48fb-f1c9-790191ec1f3f"
      },
      "execution_count": 56,
      "outputs": [
        {
          "output_type": "execute_result",
          "data": {
            "text/plain": [
              "100"
            ]
          },
          "metadata": {},
          "execution_count": 56
        }
      ]
    },
    {
      "cell_type": "code",
      "source": [
        "y = w*x + b\n",
        "y"
      ],
      "metadata": {
        "colab": {
          "base_uri": "https://localhost:8080/"
        },
        "id": "xkh2ZO-LqKgC",
        "outputId": "772e2d61-ba43-4d7a-9f27-b1b61e84ed80"
      },
      "execution_count": 57,
      "outputs": [
        {
          "output_type": "execute_result",
          "data": {
            "text/plain": [
              "tensor([ 0.9000,  1.2000,  1.5000,  1.8000,  2.1000,  2.4000,  2.7000,  3.0000,\n",
              "         3.3000,  3.6000,  3.9000,  4.2000,  4.5000,  4.8000,  5.1000,  5.4000,\n",
              "         5.7000,  6.0000,  6.3000,  6.6000,  6.9000,  7.2000,  7.5000,  7.8000,\n",
              "         8.1000,  8.4000,  8.7000,  9.0000,  9.3000,  9.6000,  9.9000, 10.2000,\n",
              "        10.5000, 10.8000, 11.1000, 11.4000, 11.7000, 12.0000, 12.3000, 12.6000,\n",
              "        12.9000, 13.2000, 13.5000, 13.8000, 14.1000, 14.4000, 14.7000, 15.0000,\n",
              "        15.3000, 15.6000, 15.9000, 16.2000, 16.5000, 16.8000, 17.1000, 17.4000,\n",
              "        17.7000, 18.0000, 18.3000, 18.6000, 18.9000, 19.2000, 19.5000, 19.8000,\n",
              "        20.1000, 20.4000, 20.7000, 21.0000, 21.3000, 21.6000, 21.9000, 22.2000,\n",
              "        22.5000, 22.8000, 23.1000, 23.4000, 23.7000, 24.0000, 24.3000, 24.6000,\n",
              "        24.9000, 25.2000, 25.5000, 25.8000, 26.1000, 26.4000, 26.7000, 27.0000,\n",
              "        27.3000, 27.6000, 27.9000, 28.2000, 28.5000, 28.8000, 29.1000, 29.4000,\n",
              "        29.7000, 30.0000, 30.3000, 30.6000])"
            ]
          },
          "metadata": {},
          "execution_count": 57
        }
      ]
    },
    {
      "cell_type": "code",
      "source": [
        "len(y)"
      ],
      "metadata": {
        "colab": {
          "base_uri": "https://localhost:8080/"
        },
        "id": "d6HRA2RsqWwi",
        "outputId": "69ef5468-d860-4b31-9920-3cd4e8fbbed3"
      },
      "execution_count": 52,
      "outputs": [
        {
          "output_type": "execute_result",
          "data": {
            "text/plain": [
              "100"
            ]
          },
          "metadata": {},
          "execution_count": 52
        }
      ]
    },
    {
      "cell_type": "code",
      "source": [
        "len(x)"
      ],
      "metadata": {
        "colab": {
          "base_uri": "https://localhost:8080/"
        },
        "id": "9DWWEuQOqYlH",
        "outputId": "f3d3e00c-4899-4fe4-aa39-f9eaddc1381a"
      },
      "execution_count": 53,
      "outputs": [
        {
          "output_type": "execute_result",
          "data": {
            "text/plain": [
              "100"
            ]
          },
          "metadata": {},
          "execution_count": 53
        }
      ]
    },
    {
      "cell_type": "code",
      "source": [
        "train_split = int(0.8*len(x))\n",
        "X_train, y_train = x[:train_split], y[:train_split]\n",
        "X_test, y_test = x[train_split:], y[train_split:]\n",
        "\n",
        "len(X_train), len(y_train), len(X_test),len(y_test)"
      ],
      "metadata": {
        "colab": {
          "base_uri": "https://localhost:8080/"
        },
        "id": "A1OdtItPqacR",
        "outputId": "74a531b5-0967-408c-cc5e-a29aa242d31a"
      },
      "execution_count": 58,
      "outputs": [
        {
          "output_type": "execute_result",
          "data": {
            "text/plain": [
              "(80, 80, 20, 20)"
            ]
          },
          "metadata": {},
          "execution_count": 58
        }
      ]
    },
    {
      "cell_type": "code",
      "source": [
        "import matplotlib.pyplot as plt\n",
        "\n",
        "def plot_predictions(train_data=X_train, \n",
        "                     train_labels=y_train, \n",
        "                     test_data=X_test, \n",
        "                     test_labels=y_test, \n",
        "                     predictions=None):\n",
        "  \"\"\"\n",
        "  Plots training data, test data and compares predictions.\n",
        "  \"\"\"\n",
        "  plt.figure(figsize=(10, 7))\n",
        "\n",
        "  # Plot training data in blue\n",
        "  plt.scatter(train_data, train_labels, c=\"b\", s=4, label=\"Training data\")\n",
        "  \n",
        "  # Plot test data in green\n",
        "  plt.scatter(test_data, test_labels, c=\"g\", s=4, label=\"Testing data\")\n",
        "\n",
        "  if predictions is not None:\n",
        "    # Plot the predictions in red (predictions were made on the test data)\n",
        "    plt.scatter(test_data, predictions, c=\"r\", s=4, label=\"Predictions\")\n",
        "\n",
        "  # Show the legend\n",
        "  plt.legend(prop={\"size\": 14});"
      ],
      "metadata": {
        "id": "eMvA-WsBq4XI"
      },
      "execution_count": 60,
      "outputs": []
    },
    {
      "cell_type": "code",
      "source": [
        "plot_predictions();"
      ],
      "metadata": {
        "colab": {
          "base_uri": "https://localhost:8080/",
          "height": 428
        },
        "id": "rXNqxR1qq8TH",
        "outputId": "f287b0b4-5a9d-4f7b-b7c9-ee4d26958647"
      },
      "execution_count": 61,
      "outputs": [
        {
          "output_type": "display_data",
          "data": {
            "text/plain": [
              "<Figure size 720x504 with 1 Axes>"
            ],
            "image/png": "[encoded data removed]"
          },
          "metadata": {
            "needs_background": "light"
          }
        }
      ]
    },
    {
      "cell_type": "markdown",
      "source": [
        "### 2.Build a PyTorch model by subclassing nn.Module.\n",
        "* Inside should be a randomly initialized nn.Parameter() with requires_grad=True, one for weights and one for bias.\n",
        "* Implement the forward() method to compute the linear regression function you used to create the dataset in 1.\n",
        "* Once you've constructed the model, make an instance of it and check its state_dict().\n",
        "* Note: If you'd like to use nn.Linear() instead of nn.Parameter() you can."
      ],
      "metadata": {
        "id": "_v1vyN0GrMch"
      }
    },
    {
      "cell_type": "code",
      "source": [
        "class LinearRegression(nn.Module):\n",
        "  def __init__(self):\n",
        "    super().__init__()\n",
        "    self.weights = nn.Parameter(torch.randn(1,\n",
        "                                           requires_grad=True,\n",
        "                                           dtype=torch.float))\n",
        "    self.bias = nn.Parameter(torch.randn(1,\n",
        "                                         requires_grad=True,\n",
        "                                         dtype=torch.float))\n",
        "  \n",
        "  def forward(self, x):\n",
        "    return self.weights * x + self.bias"
      ],
      "metadata": {
        "id": "8nujCWqZrHR_"
      },
      "execution_count": 63,
      "outputs": []
    },
    {
      "cell_type": "code",
      "source": [
        "torch.manual_seed(42)\n",
        "li = LinearRegression()\n",
        "li.state_dict()"
      ],
      "metadata": {
        "colab": {
          "base_uri": "https://localhost:8080/"
        },
        "id": "t0dcf3IDsCNC",
        "outputId": "ff50e9ba-c930-4540-b246-7ec5e0e75f7a"
      },
      "execution_count": 67,
      "outputs": [
        {
          "output_type": "execute_result",
          "data": {
            "text/plain": [
              "OrderedDict([('weights', tensor([0.3367])), ('bias', tensor([0.1288]))])"
            ]
          },
          "metadata": {},
          "execution_count": 67
        }
      ]
    },
    {
      "cell_type": "code",
      "source": [
        "list(li.parameters())"
      ],
      "metadata": {
        "colab": {
          "base_uri": "https://localhost:8080/"
        },
        "id": "1MACsgnusLYx",
        "outputId": "49af543d-12dc-4543-ebcb-0878ae885b73"
      },
      "execution_count": 69,
      "outputs": [
        {
          "output_type": "execute_result",
          "data": {
            "text/plain": [
              "[Parameter containing:\n",
              " tensor([0.3367], requires_grad=True), Parameter containing:\n",
              " tensor([0.1288], requires_grad=True)]"
            ]
          },
          "metadata": {},
          "execution_count": 69
        }
      ]
    },
    {
      "cell_type": "markdown",
      "source": [
        "### 3.Create a loss function and optimizer using nn.L1Loss() and torch.optim.SGD(params, lr) respectively.\n",
        "* Set the learning rate of the optimizer to be 0.01 and the parameters to optimize should be the model parameters from the model you created in 2.\n",
        "* Write a training loop to perform the appropriate training steps for 300 epochs.\n",
        "* The training loop should test the model on the test dataset every 20 epochs."
      ],
      "metadata": {
        "id": "Fr8c91bxsg2B"
      }
    },
    {
      "cell_type": "code",
      "source": [
        "# Loss function\n",
        "loss_fn = nn.L1Loss()\n",
        "\n",
        "# Optimizer\n",
        "optim = torch.optim.SGD(params=li.parameters(),\n",
        "                        lr=0.01)"
      ],
      "metadata": {
        "id": "iQjsLDmpsaDh"
      },
      "execution_count": 70,
      "outputs": []
    },
    {
      "cell_type": "code",
      "source": [
        "epochs = 300\n",
        "\n",
        "epoch_count = []\n",
        "train_loss = []\n",
        "test_loss_values = []\n",
        "\n",
        "for epoch in range(epochs):\n",
        "\n",
        "  # Set training model\n",
        "  li.train()\n",
        "\n",
        "  # Forward pass\n",
        "  y_pred = li(X_train)\n",
        "\n",
        "  # Loss fun\n",
        "  loss = loss_fn(y_pred, y_pred)\n",
        "\n",
        "  # optimizer(zero_grad)\n",
        "  optim.zero_grad()\n",
        "\n",
        "  # loss backward\n",
        "  loss.backward()\n",
        "\n",
        "  # optimizer step\n",
        "  optim.step()\n",
        "\n",
        "  # Testing mode\n",
        "  li.eval()\n",
        "  \n",
        "  with torch.inference_mode():\n",
        "    test_pred = li(X_test)\n",
        "    test_loss = loss_fn(test_pred, y_test)\n",
        "\n",
        "    if epochs % 20 == 0:\n",
        "      epoch_count.append(epoch)\n",
        "      train_loss.append(loss.detach().numpy())\n",
        "      test_loss_values.append(test_loss.detach().numpy())\n",
        "      print(f\"Epoch: {epoch} | MAE Train Loss: {loss} | MAE Test Loss: {test_loss} \")"
      ],
      "metadata": {
        "colab": {
          "base_uri": "https://localhost:8080/"
        },
        "id": "eo1pdboTtGYC",
        "outputId": "40c018e4-1465-4d32-a463-7312df1ba4e2"
      },
      "execution_count": 73,
      "outputs": [
        {
          "output_type": "stream",
          "name": "stdout",
          "text": [
            "Epoch: 0 | MAE Train Loss: 0.0 | MAE Test Loss: 2.512596607208252 \n",
            "Epoch: 1 | MAE Train Loss: 0.0 | MAE Test Loss: 2.512596607208252 \n",
            "Epoch: 2 | MAE Train Loss: 0.0 | MAE Test Loss: 2.512596607208252 \n",
            "Epoch: 3 | MAE Train Loss: 0.0 | MAE Test Loss: 2.512596607208252 \n",
            "Epoch: 4 | MAE Train Loss: 0.0 | MAE Test Loss: 2.512596607208252 \n",
            "Epoch: 5 | MAE Train Loss: 0.0 | MAE Test Loss: 2.512596607208252 \n",
            "Epoch: 6 | MAE Train Loss: 0.0 | MAE Test Loss: 2.512596607208252 \n",
            "Epoch: 7 | MAE Train Loss: 0.0 | MAE Test Loss: 2.512596607208252 \n",
            "Epoch: 8 | MAE Train Loss: 0.0 | MAE Test Loss: 2.512596607208252 \n",
            "Epoch: 9 | MAE Train Loss: 0.0 | MAE Test Loss: 2.512596607208252 \n",
            "Epoch: 10 | MAE Train Loss: 0.0 | MAE Test Loss: 2.512596607208252 \n",
            "Epoch: 11 | MAE Train Loss: 0.0 | MAE Test Loss: 2.512596607208252 \n",
            "Epoch: 12 | MAE Train Loss: 0.0 | MAE Test Loss: 2.512596607208252 \n",
            "Epoch: 13 | MAE Train Loss: 0.0 | MAE Test Loss: 2.512596607208252 \n",
            "Epoch: 14 | MAE Train Loss: 0.0 | MAE Test Loss: 2.512596607208252 \n",
            "Epoch: 15 | MAE Train Loss: 0.0 | MAE Test Loss: 2.512596607208252 \n",
            "Epoch: 16 | MAE Train Loss: 0.0 | MAE Test Loss: 2.512596607208252 \n",
            "Epoch: 17 | MAE Train Loss: 0.0 | MAE Test Loss: 2.512596607208252 \n",
            "Epoch: 18 | MAE Train Loss: 0.0 | MAE Test Loss: 2.512596607208252 \n",
            "Epoch: 19 | MAE Train Loss: 0.0 | MAE Test Loss: 2.512596607208252 \n",
            "Epoch: 20 | MAE Train Loss: 0.0 | MAE Test Loss: 2.512596607208252 \n",
            "Epoch: 21 | MAE Train Loss: 0.0 | MAE Test Loss: 2.512596607208252 \n",
            "Epoch: 22 | MAE Train Loss: 0.0 | MAE Test Loss: 2.512596607208252 \n",
            "Epoch: 23 | MAE Train Loss: 0.0 | MAE Test Loss: 2.512596607208252 \n",
            "Epoch: 24 | MAE Train Loss: 0.0 | MAE Test Loss: 2.512596607208252 \n",
            "Epoch: 25 | MAE Train Loss: 0.0 | MAE Test Loss: 2.512596607208252 \n",
            "Epoch: 26 | MAE Train Loss: 0.0 | MAE Test Loss: 2.512596607208252 \n",
            "Epoch: 27 | MAE Train Loss: 0.0 | MAE Test Loss: 2.512596607208252 \n",
            "Epoch: 28 | MAE Train Loss: 0.0 | MAE Test Loss: 2.512596607208252 \n",
            "Epoch: 29 | MAE Train Loss: 0.0 | MAE Test Loss: 2.512596607208252 \n",
            "Epoch: 30 | MAE Train Loss: 0.0 | MAE Test Loss: 2.512596607208252 \n",
            "Epoch: 31 | MAE Train Loss: 0.0 | MAE Test Loss: 2.512596607208252 \n",
            "Epoch: 32 | MAE Train Loss: 0.0 | MAE Test Loss: 2.512596607208252 \n",
            "Epoch: 33 | MAE Train Loss: 0.0 | MAE Test Loss: 2.512596607208252 \n",
            "Epoch: 34 | MAE Train Loss: 0.0 | MAE Test Loss: 2.512596607208252 \n",
            "Epoch: 35 | MAE Train Loss: 0.0 | MAE Test Loss: 2.512596607208252 \n",
            "Epoch: 36 | MAE Train Loss: 0.0 | MAE Test Loss: 2.512596607208252 \n",
            "Epoch: 37 | MAE Train Loss: 0.0 | MAE Test Loss: 2.512596607208252 \n",
            "Epoch: 38 | MAE Train Loss: 0.0 | MAE Test Loss: 2.512596607208252 \n",
            "Epoch: 39 | MAE Train Loss: 0.0 | MAE Test Loss: 2.512596607208252 \n",
            "Epoch: 40 | MAE Train Loss: 0.0 | MAE Test Loss: 2.512596607208252 \n",
            "Epoch: 41 | MAE Train Loss: 0.0 | MAE Test Loss: 2.512596607208252 \n",
            "Epoch: 42 | MAE Train Loss: 0.0 | MAE Test Loss: 2.512596607208252 \n",
            "Epoch: 43 | MAE Train Loss: 0.0 | MAE Test Loss: 2.512596607208252 \n",
            "Epoch: 44 | MAE Train Loss: 0.0 | MAE Test Loss: 2.512596607208252 \n",
            "Epoch: 45 | MAE Train Loss: 0.0 | MAE Test Loss: 2.512596607208252 \n",
            "Epoch: 46 | MAE Train Loss: 0.0 | MAE Test Loss: 2.512596607208252 \n",
            "Epoch: 47 | MAE Train Loss: 0.0 | MAE Test Loss: 2.512596607208252 \n",
            "Epoch: 48 | MAE Train Loss: 0.0 | MAE Test Loss: 2.512596607208252 \n",
            "Epoch: 49 | MAE Train Loss: 0.0 | MAE Test Loss: 2.512596607208252 \n",
            "Epoch: 50 | MAE Train Loss: 0.0 | MAE Test Loss: 2.512596607208252 \n",
            "Epoch: 51 | MAE Train Loss: 0.0 | MAE Test Loss: 2.512596607208252 \n",
            "Epoch: 52 | MAE Train Loss: 0.0 | MAE Test Loss: 2.512596607208252 \n",
            "Epoch: 53 | MAE Train Loss: 0.0 | MAE Test Loss: 2.512596607208252 \n",
            "Epoch: 54 | MAE Train Loss: 0.0 | MAE Test Loss: 2.512596607208252 \n",
            "Epoch: 55 | MAE Train Loss: 0.0 | MAE Test Loss: 2.512596607208252 \n",
            "Epoch: 56 | MAE Train Loss: 0.0 | MAE Test Loss: 2.512596607208252 \n",
            "Epoch: 57 | MAE Train Loss: 0.0 | MAE Test Loss: 2.512596607208252 \n",
            "Epoch: 58 | MAE Train Loss: 0.0 | MAE Test Loss: 2.512596607208252 \n",
            "Epoch: 59 | MAE Train Loss: 0.0 | MAE Test Loss: 2.512596607208252 \n",
            "Epoch: 60 | MAE Train Loss: 0.0 | MAE Test Loss: 2.512596607208252 \n",
            "Epoch: 61 | MAE Train Loss: 0.0 | MAE Test Loss: 2.512596607208252 \n",
            "Epoch: 62 | MAE Train Loss: 0.0 | MAE Test Loss: 2.512596607208252 \n",
            "Epoch: 63 | MAE Train Loss: 0.0 | MAE Test Loss: 2.512596607208252 \n",
            "Epoch: 64 | MAE Train Loss: 0.0 | MAE Test Loss: 2.512596607208252 \n",
            "Epoch: 65 | MAE Train Loss: 0.0 | MAE Test Loss: 2.512596607208252 \n",
            "Epoch: 66 | MAE Train Loss: 0.0 | MAE Test Loss: 2.512596607208252 \n",
            "Epoch: 67 | MAE Train Loss: 0.0 | MAE Test Loss: 2.512596607208252 \n",
            "Epoch: 68 | MAE Train Loss: 0.0 | MAE Test Loss: 2.512596607208252 \n",
            "Epoch: 69 | MAE Train Loss: 0.0 | MAE Test Loss: 2.512596607208252 \n",
            "Epoch: 70 | MAE Train Loss: 0.0 | MAE Test Loss: 2.512596607208252 \n",
            "Epoch: 71 | MAE Train Loss: 0.0 | MAE Test Loss: 2.512596607208252 \n",
            "Epoch: 72 | MAE Train Loss: 0.0 | MAE Test Loss: 2.512596607208252 \n",
            "Epoch: 73 | MAE Train Loss: 0.0 | MAE Test Loss: 2.512596607208252 \n",
            "Epoch: 74 | MAE Train Loss: 0.0 | MAE Test Loss: 2.512596607208252 \n",
            "Epoch: 75 | MAE Train Loss: 0.0 | MAE Test Loss: 2.512596607208252 \n",
            "Epoch: 76 | MAE Train Loss: 0.0 | MAE Test Loss: 2.512596607208252 \n",
            "Epoch: 77 | MAE Train Loss: 0.0 | MAE Test Loss: 2.512596607208252 \n",
            "Epoch: 78 | MAE Train Loss: 0.0 | MAE Test Loss: 2.512596607208252 \n",
            "Epoch: 79 | MAE Train Loss: 0.0 | MAE Test Loss: 2.512596607208252 \n",
            "Epoch: 80 | MAE Train Loss: 0.0 | MAE Test Loss: 2.512596607208252 \n",
            "Epoch: 81 | MAE Train Loss: 0.0 | MAE Test Loss: 2.512596607208252 \n",
            "Epoch: 82 | MAE Train Loss: 0.0 | MAE Test Loss: 2.512596607208252 \n",
            "Epoch: 83 | MAE Train Loss: 0.0 | MAE Test Loss: 2.512596607208252 \n",
            "Epoch: 84 | MAE Train Loss: 0.0 | MAE Test Loss: 2.512596607208252 \n",
            "Epoch: 85 | MAE Train Loss: 0.0 | MAE Test Loss: 2.512596607208252 \n",
            "Epoch: 86 | MAE Train Loss: 0.0 | MAE Test Loss: 2.512596607208252 \n",
            "Epoch: 87 | MAE Train Loss: 0.0 | MAE Test Loss: 2.512596607208252 \n",
            "Epoch: 88 | MAE Train Loss: 0.0 | MAE Test Loss: 2.512596607208252 \n",
            "Epoch: 89 | MAE Train Loss: 0.0 | MAE Test Loss: 2.512596607208252 \n",
            "Epoch: 90 | MAE Train Loss: 0.0 | MAE Test Loss: 2.512596607208252 \n",
            "Epoch: 91 | MAE Train Loss: 0.0 | MAE Test Loss: 2.512596607208252 \n",
            "Epoch: 92 | MAE Train Loss: 0.0 | MAE Test Loss: 2.512596607208252 \n",
            "Epoch: 93 | MAE Train Loss: 0.0 | MAE Test Loss: 2.512596607208252 \n",
            "Epoch: 94 | MAE Train Loss: 0.0 | MAE Test Loss: 2.512596607208252 \n",
            "Epoch: 95 | MAE Train Loss: 0.0 | MAE Test Loss: 2.512596607208252 \n",
            "Epoch: 96 | MAE Train Loss: 0.0 | MAE Test Loss: 2.512596607208252 \n",
            "Epoch: 97 | MAE Train Loss: 0.0 | MAE Test Loss: 2.512596607208252 \n",
            "Epoch: 98 | MAE Train Loss: 0.0 | MAE Test Loss: 2.512596607208252 \n",
            "Epoch: 99 | MAE Train Loss: 0.0 | MAE Test Loss: 2.512596607208252 \n",
            "Epoch: 100 | MAE Train Loss: 0.0 | MAE Test Loss: 2.512596607208252 \n",
            "Epoch: 101 | MAE Train Loss: 0.0 | MAE Test Loss: 2.512596607208252 \n",
            "Epoch: 102 | MAE Train Loss: 0.0 | MAE Test Loss: 2.512596607208252 \n",
            "Epoch: 103 | MAE Train Loss: 0.0 | MAE Test Loss: 2.512596607208252 \n",
            "Epoch: 104 | MAE Train Loss: 0.0 | MAE Test Loss: 2.512596607208252 \n",
            "Epoch: 105 | MAE Train Loss: 0.0 | MAE Test Loss: 2.512596607208252 \n",
            "Epoch: 106 | MAE Train Loss: 0.0 | MAE Test Loss: 2.512596607208252 \n",
            "Epoch: 107 | MAE Train Loss: 0.0 | MAE Test Loss: 2.512596607208252 \n",
            "Epoch: 108 | MAE Train Loss: 0.0 | MAE Test Loss: 2.512596607208252 \n",
            "Epoch: 109 | MAE Train Loss: 0.0 | MAE Test Loss: 2.512596607208252 \n",
            "Epoch: 110 | MAE Train Loss: 0.0 | MAE Test Loss: 2.512596607208252 \n",
            "Epoch: 111 | MAE Train Loss: 0.0 | MAE Test Loss: 2.512596607208252 \n",
            "Epoch: 112 | MAE Train Loss: 0.0 | MAE Test Loss: 2.512596607208252 \n",
            "Epoch: 113 | MAE Train Loss: 0.0 | MAE Test Loss: 2.512596607208252 \n",
            "Epoch: 114 | MAE Train Loss: 0.0 | MAE Test Loss: 2.512596607208252 \n",
            "Epoch: 115 | MAE Train Loss: 0.0 | MAE Test Loss: 2.512596607208252 \n",
            "Epoch: 116 | MAE Train Loss: 0.0 | MAE Test Loss: 2.512596607208252 \n",
            "Epoch: 117 | MAE Train Loss: 0.0 | MAE Test Loss: 2.512596607208252 \n",
            "Epoch: 118 | MAE Train Loss: 0.0 | MAE Test Loss: 2.512596607208252 \n",
            "Epoch: 119 | MAE Train Loss: 0.0 | MAE Test Loss: 2.512596607208252 \n",
            "Epoch: 120 | MAE Train Loss: 0.0 | MAE Test Loss: 2.512596607208252 \n",
            "Epoch: 121 | MAE Train Loss: 0.0 | MAE Test Loss: 2.512596607208252 \n",
            "Epoch: 122 | MAE Train Loss: 0.0 | MAE Test Loss: 2.512596607208252 \n",
            "Epoch: 123 | MAE Train Loss: 0.0 | MAE Test Loss: 2.512596607208252 \n",
            "Epoch: 124 | MAE Train Loss: 0.0 | MAE Test Loss: 2.512596607208252 \n",
            "Epoch: 125 | MAE Train Loss: 0.0 | MAE Test Loss: 2.512596607208252 \n",
            "Epoch: 126 | MAE Train Loss: 0.0 | MAE Test Loss: 2.512596607208252 \n",
            "Epoch: 127 | MAE Train Loss: 0.0 | MAE Test Loss: 2.512596607208252 \n",
            "Epoch: 128 | MAE Train Loss: 0.0 | MAE Test Loss: 2.512596607208252 \n",
            "Epoch: 129 | MAE Train Loss: 0.0 | MAE Test Loss: 2.512596607208252 \n",
            "Epoch: 130 | MAE Train Loss: 0.0 | MAE Test Loss: 2.512596607208252 \n",
            "Epoch: 131 | MAE Train Loss: 0.0 | MAE Test Loss: 2.512596607208252 \n",
            "Epoch: 132 | MAE Train Loss: 0.0 | MAE Test Loss: 2.512596607208252 \n",
            "Epoch: 133 | MAE Train Loss: 0.0 | MAE Test Loss: 2.512596607208252 \n",
            "Epoch: 134 | MAE Train Loss: 0.0 | MAE Test Loss: 2.512596607208252 \n",
            "Epoch: 135 | MAE Train Loss: 0.0 | MAE Test Loss: 2.512596607208252 \n",
            "Epoch: 136 | MAE Train Loss: 0.0 | MAE Test Loss: 2.512596607208252 \n",
            "Epoch: 137 | MAE Train Loss: 0.0 | MAE Test Loss: 2.512596607208252 \n",
            "Epoch: 138 | MAE Train Loss: 0.0 | MAE Test Loss: 2.512596607208252 \n",
            "Epoch: 139 | MAE Train Loss: 0.0 | MAE Test Loss: 2.512596607208252 \n",
            "Epoch: 140 | MAE Train Loss: 0.0 | MAE Test Loss: 2.512596607208252 \n",
            "Epoch: 141 | MAE Train Loss: 0.0 | MAE Test Loss: 2.512596607208252 \n",
            "Epoch: 142 | MAE Train Loss: 0.0 | MAE Test Loss: 2.512596607208252 \n",
            "Epoch: 143 | MAE Train Loss: 0.0 | MAE Test Loss: 2.512596607208252 \n",
            "Epoch: 144 | MAE Train Loss: 0.0 | MAE Test Loss: 2.512596607208252 \n",
            "Epoch: 145 | MAE Train Loss: 0.0 | MAE Test Loss: 2.512596607208252 \n",
            "Epoch: 146 | MAE Train Loss: 0.0 | MAE Test Loss: 2.512596607208252 \n",
            "Epoch: 147 | MAE Train Loss: 0.0 | MAE Test Loss: 2.512596607208252 \n",
            "Epoch: 148 | MAE Train Loss: 0.0 | MAE Test Loss: 2.512596607208252 \n",
            "Epoch: 149 | MAE Train Loss: 0.0 | MAE Test Loss: 2.512596607208252 \n",
            "Epoch: 150 | MAE Train Loss: 0.0 | MAE Test Loss: 2.512596607208252 \n",
            "Epoch: 151 | MAE Train Loss: 0.0 | MAE Test Loss: 2.512596607208252 \n",
            "Epoch: 152 | MAE Train Loss: 0.0 | MAE Test Loss: 2.512596607208252 \n",
            "Epoch: 153 | MAE Train Loss: 0.0 | MAE Test Loss: 2.512596607208252 \n",
            "Epoch: 154 | MAE Train Loss: 0.0 | MAE Test Loss: 2.512596607208252 \n",
            "Epoch: 155 | MAE Train Loss: 0.0 | MAE Test Loss: 2.512596607208252 \n",
            "Epoch: 156 | MAE Train Loss: 0.0 | MAE Test Loss: 2.512596607208252 \n",
            "Epoch: 157 | MAE Train Loss: 0.0 | MAE Test Loss: 2.512596607208252 \n",
            "Epoch: 158 | MAE Train Loss: 0.0 | MAE Test Loss: 2.512596607208252 \n",
            "Epoch: 159 | MAE Train Loss: 0.0 | MAE Test Loss: 2.512596607208252 \n",
            "Epoch: 160 | MAE Train Loss: 0.0 | MAE Test Loss: 2.512596607208252 \n",
            "Epoch: 161 | MAE Train Loss: 0.0 | MAE Test Loss: 2.512596607208252 \n",
            "Epoch: 162 | MAE Train Loss: 0.0 | MAE Test Loss: 2.512596607208252 \n",
            "Epoch: 163 | MAE Train Loss: 0.0 | MAE Test Loss: 2.512596607208252 \n",
            "Epoch: 164 | MAE Train Loss: 0.0 | MAE Test Loss: 2.512596607208252 \n",
            "Epoch: 165 | MAE Train Loss: 0.0 | MAE Test Loss: 2.512596607208252 \n",
            "Epoch: 166 | MAE Train Loss: 0.0 | MAE Test Loss: 2.512596607208252 \n",
            "Epoch: 167 | MAE Train Loss: 0.0 | MAE Test Loss: 2.512596607208252 \n",
            "Epoch: 168 | MAE Train Loss: 0.0 | MAE Test Loss: 2.512596607208252 \n",
            "Epoch: 169 | MAE Train Loss: 0.0 | MAE Test Loss: 2.512596607208252 \n",
            "Epoch: 170 | MAE Train Loss: 0.0 | MAE Test Loss: 2.512596607208252 \n",
            "Epoch: 171 | MAE Train Loss: 0.0 | MAE Test Loss: 2.512596607208252 \n",
            "Epoch: 172 | MAE Train Loss: 0.0 | MAE Test Loss: 2.512596607208252 \n",
            "Epoch: 173 | MAE Train Loss: 0.0 | MAE Test Loss: 2.512596607208252 \n",
            "Epoch: 174 | MAE Train Loss: 0.0 | MAE Test Loss: 2.512596607208252 \n",
            "Epoch: 175 | MAE Train Loss: 0.0 | MAE Test Loss: 2.512596607208252 \n",
            "Epoch: 176 | MAE Train Loss: 0.0 | MAE Test Loss: 2.512596607208252 \n",
            "Epoch: 177 | MAE Train Loss: 0.0 | MAE Test Loss: 2.512596607208252 \n",
            "Epoch: 178 | MAE Train Loss: 0.0 | MAE Test Loss: 2.512596607208252 \n",
            "Epoch: 179 | MAE Train Loss: 0.0 | MAE Test Loss: 2.512596607208252 \n",
            "Epoch: 180 | MAE Train Loss: 0.0 | MAE Test Loss: 2.512596607208252 \n",
            "Epoch: 181 | MAE Train Loss: 0.0 | MAE Test Loss: 2.512596607208252 \n",
            "Epoch: 182 | MAE Train Loss: 0.0 | MAE Test Loss: 2.512596607208252 \n",
            "Epoch: 183 | MAE Train Loss: 0.0 | MAE Test Loss: 2.512596607208252 \n",
            "Epoch: 184 | MAE Train Loss: 0.0 | MAE Test Loss: 2.512596607208252 \n",
            "Epoch: 185 | MAE Train Loss: 0.0 | MAE Test Loss: 2.512596607208252 \n",
            "Epoch: 186 | MAE Train Loss: 0.0 | MAE Test Loss: 2.512596607208252 \n",
            "Epoch: 187 | MAE Train Loss: 0.0 | MAE Test Loss: 2.512596607208252 \n",
            "Epoch: 188 | MAE Train Loss: 0.0 | MAE Test Loss: 2.512596607208252 \n",
            "Epoch: 189 | MAE Train Loss: 0.0 | MAE Test Loss: 2.512596607208252 \n",
            "Epoch: 190 | MAE Train Loss: 0.0 | MAE Test Loss: 2.512596607208252 \n",
            "Epoch: 191 | MAE Train Loss: 0.0 | MAE Test Loss: 2.512596607208252 \n",
            "Epoch: 192 | MAE Train Loss: 0.0 | MAE Test Loss: 2.512596607208252 \n",
            "Epoch: 193 | MAE Train Loss: 0.0 | MAE Test Loss: 2.512596607208252 \n",
            "Epoch: 194 | MAE Train Loss: 0.0 | MAE Test Loss: 2.512596607208252 \n",
            "Epoch: 195 | MAE Train Loss: 0.0 | MAE Test Loss: 2.512596607208252 \n",
            "Epoch: 196 | MAE Train Loss: 0.0 | MAE Test Loss: 2.512596607208252 \n",
            "Epoch: 197 | MAE Train Loss: 0.0 | MAE Test Loss: 2.512596607208252 \n",
            "Epoch: 198 | MAE Train Loss: 0.0 | MAE Test Loss: 2.512596607208252 \n",
            "Epoch: 199 | MAE Train Loss: 0.0 | MAE Test Loss: 2.512596607208252 \n",
            "Epoch: 200 | MAE Train Loss: 0.0 | MAE Test Loss: 2.512596607208252 \n",
            "Epoch: 201 | MAE Train Loss: 0.0 | MAE Test Loss: 2.512596607208252 \n",
            "Epoch: 202 | MAE Train Loss: 0.0 | MAE Test Loss: 2.512596607208252 \n",
            "Epoch: 203 | MAE Train Loss: 0.0 | MAE Test Loss: 2.512596607208252 \n",
            "Epoch: 204 | MAE Train Loss: 0.0 | MAE Test Loss: 2.512596607208252 \n",
            "Epoch: 205 | MAE Train Loss: 0.0 | MAE Test Loss: 2.512596607208252 \n",
            "Epoch: 206 | MAE Train Loss: 0.0 | MAE Test Loss: 2.512596607208252 \n",
            "Epoch: 207 | MAE Train Loss: 0.0 | MAE Test Loss: 2.512596607208252 \n",
            "Epoch: 208 | MAE Train Loss: 0.0 | MAE Test Loss: 2.512596607208252 \n",
            "Epoch: 209 | MAE Train Loss: 0.0 | MAE Test Loss: 2.512596607208252 \n",
            "Epoch: 210 | MAE Train Loss: 0.0 | MAE Test Loss: 2.512596607208252 \n",
            "Epoch: 211 | MAE Train Loss: 0.0 | MAE Test Loss: 2.512596607208252 \n",
            "Epoch: 212 | MAE Train Loss: 0.0 | MAE Test Loss: 2.512596607208252 \n",
            "Epoch: 213 | MAE Train Loss: 0.0 | MAE Test Loss: 2.512596607208252 \n",
            "Epoch: 214 | MAE Train Loss: 0.0 | MAE Test Loss: 2.512596607208252 \n",
            "Epoch: 215 | MAE Train Loss: 0.0 | MAE Test Loss: 2.512596607208252 \n",
            "Epoch: 216 | MAE Train Loss: 0.0 | MAE Test Loss: 2.512596607208252 \n",
            "Epoch: 217 | MAE Train Loss: 0.0 | MAE Test Loss: 2.512596607208252 \n",
            "Epoch: 218 | MAE Train Loss: 0.0 | MAE Test Loss: 2.512596607208252 \n",
            "Epoch: 219 | MAE Train Loss: 0.0 | MAE Test Loss: 2.512596607208252 \n",
            "Epoch: 220 | MAE Train Loss: 0.0 | MAE Test Loss: 2.512596607208252 \n",
            "Epoch: 221 | MAE Train Loss: 0.0 | MAE Test Loss: 2.512596607208252 \n",
            "Epoch: 222 | MAE Train Loss: 0.0 | MAE Test Loss: 2.512596607208252 \n",
            "Epoch: 223 | MAE Train Loss: 0.0 | MAE Test Loss: 2.512596607208252 \n",
            "Epoch: 224 | MAE Train Loss: 0.0 | MAE Test Loss: 2.512596607208252 \n",
            "Epoch: 225 | MAE Train Loss: 0.0 | MAE Test Loss: 2.512596607208252 \n",
            "Epoch: 226 | MAE Train Loss: 0.0 | MAE Test Loss: 2.512596607208252 \n",
            "Epoch: 227 | MAE Train Loss: 0.0 | MAE Test Loss: 2.512596607208252 \n",
            "Epoch: 228 | MAE Train Loss: 0.0 | MAE Test Loss: 2.512596607208252 \n",
            "Epoch: 229 | MAE Train Loss: 0.0 | MAE Test Loss: 2.512596607208252 \n",
            "Epoch: 230 | MAE Train Loss: 0.0 | MAE Test Loss: 2.512596607208252 \n",
            "Epoch: 231 | MAE Train Loss: 0.0 | MAE Test Loss: 2.512596607208252 \n",
            "Epoch: 232 | MAE Train Loss: 0.0 | MAE Test Loss: 2.512596607208252 \n",
            "Epoch: 233 | MAE Train Loss: 0.0 | MAE Test Loss: 2.512596607208252 \n",
            "Epoch: 234 | MAE Train Loss: 0.0 | MAE Test Loss: 2.512596607208252 \n",
            "Epoch: 235 | MAE Train Loss: 0.0 | MAE Test Loss: 2.512596607208252 \n",
            "Epoch: 236 | MAE Train Loss: 0.0 | MAE Test Loss: 2.512596607208252 \n",
            "Epoch: 237 | MAE Train Loss: 0.0 | MAE Test Loss: 2.512596607208252 \n",
            "Epoch: 238 | MAE Train Loss: 0.0 | MAE Test Loss: 2.512596607208252 \n",
            "Epoch: 239 | MAE Train Loss: 0.0 | MAE Test Loss: 2.512596607208252 \n",
            "Epoch: 240 | MAE Train Loss: 0.0 | MAE Test Loss: 2.512596607208252 \n",
            "Epoch: 241 | MAE Train Loss: 0.0 | MAE Test Loss: 2.512596607208252 \n",
            "Epoch: 242 | MAE Train Loss: 0.0 | MAE Test Loss: 2.512596607208252 \n",
            "Epoch: 243 | MAE Train Loss: 0.0 | MAE Test Loss: 2.512596607208252 \n",
            "Epoch: 244 | MAE Train Loss: 0.0 | MAE Test Loss: 2.512596607208252 \n",
            "Epoch: 245 | MAE Train Loss: 0.0 | MAE Test Loss: 2.512596607208252 \n",
            "Epoch: 246 | MAE Train Loss: 0.0 | MAE Test Loss: 2.512596607208252 \n",
            "Epoch: 247 | MAE Train Loss: 0.0 | MAE Test Loss: 2.512596607208252 \n",
            "Epoch: 248 | MAE Train Loss: 0.0 | MAE Test Loss: 2.512596607208252 \n",
            "Epoch: 249 | MAE Train Loss: 0.0 | MAE Test Loss: 2.512596607208252 \n",
            "Epoch: 250 | MAE Train Loss: 0.0 | MAE Test Loss: 2.512596607208252 \n",
            "Epoch: 251 | MAE Train Loss: 0.0 | MAE Test Loss: 2.512596607208252 \n",
            "Epoch: 252 | MAE Train Loss: 0.0 | MAE Test Loss: 2.512596607208252 \n",
            "Epoch: 253 | MAE Train Loss: 0.0 | MAE Test Loss: 2.512596607208252 \n",
            "Epoch: 254 | MAE Train Loss: 0.0 | MAE Test Loss: 2.512596607208252 \n",
            "Epoch: 255 | MAE Train Loss: 0.0 | MAE Test Loss: 2.512596607208252 \n",
            "Epoch: 256 | MAE Train Loss: 0.0 | MAE Test Loss: 2.512596607208252 \n",
            "Epoch: 257 | MAE Train Loss: 0.0 | MAE Test Loss: 2.512596607208252 \n",
            "Epoch: 258 | MAE Train Loss: 0.0 | MAE Test Loss: 2.512596607208252 \n",
            "Epoch: 259 | MAE Train Loss: 0.0 | MAE Test Loss: 2.512596607208252 \n",
            "Epoch: 260 | MAE Train Loss: 0.0 | MAE Test Loss: 2.512596607208252 \n",
            "Epoch: 261 | MAE Train Loss: 0.0 | MAE Test Loss: 2.512596607208252 \n",
            "Epoch: 262 | MAE Train Loss: 0.0 | MAE Test Loss: 2.512596607208252 \n",
            "Epoch: 263 | MAE Train Loss: 0.0 | MAE Test Loss: 2.512596607208252 \n",
            "Epoch: 264 | MAE Train Loss: 0.0 | MAE Test Loss: 2.512596607208252 \n",
            "Epoch: 265 | MAE Train Loss: 0.0 | MAE Test Loss: 2.512596607208252 \n",
            "Epoch: 266 | MAE Train Loss: 0.0 | MAE Test Loss: 2.512596607208252 \n",
            "Epoch: 267 | MAE Train Loss: 0.0 | MAE Test Loss: 2.512596607208252 \n",
            "Epoch: 268 | MAE Train Loss: 0.0 | MAE Test Loss: 2.512596607208252 \n",
            "Epoch: 269 | MAE Train Loss: 0.0 | MAE Test Loss: 2.512596607208252 \n",
            "Epoch: 270 | MAE Train Loss: 0.0 | MAE Test Loss: 2.512596607208252 \n",
            "Epoch: 271 | MAE Train Loss: 0.0 | MAE Test Loss: 2.512596607208252 \n",
            "Epoch: 272 | MAE Train Loss: 0.0 | MAE Test Loss: 2.512596607208252 \n",
            "Epoch: 273 | MAE Train Loss: 0.0 | MAE Test Loss: 2.512596607208252 \n",
            "Epoch: 274 | MAE Train Loss: 0.0 | MAE Test Loss: 2.512596607208252 \n",
            "Epoch: 275 | MAE Train Loss: 0.0 | MAE Test Loss: 2.512596607208252 \n",
            "Epoch: 276 | MAE Train Loss: 0.0 | MAE Test Loss: 2.512596607208252 \n",
            "Epoch: 277 | MAE Train Loss: 0.0 | MAE Test Loss: 2.512596607208252 \n",
            "Epoch: 278 | MAE Train Loss: 0.0 | MAE Test Loss: 2.512596607208252 \n",
            "Epoch: 279 | MAE Train Loss: 0.0 | MAE Test Loss: 2.512596607208252 \n",
            "Epoch: 280 | MAE Train Loss: 0.0 | MAE Test Loss: 2.512596607208252 \n",
            "Epoch: 281 | MAE Train Loss: 0.0 | MAE Test Loss: 2.512596607208252 \n",
            "Epoch: 282 | MAE Train Loss: 0.0 | MAE Test Loss: 2.512596607208252 \n",
            "Epoch: 283 | MAE Train Loss: 0.0 | MAE Test Loss: 2.512596607208252 \n",
            "Epoch: 284 | MAE Train Loss: 0.0 | MAE Test Loss: 2.512596607208252 \n",
            "Epoch: 285 | MAE Train Loss: 0.0 | MAE Test Loss: 2.512596607208252 \n",
            "Epoch: 286 | MAE Train Loss: 0.0 | MAE Test Loss: 2.512596607208252 \n",
            "Epoch: 287 | MAE Train Loss: 0.0 | MAE Test Loss: 2.512596607208252 \n",
            "Epoch: 288 | MAE Train Loss: 0.0 | MAE Test Loss: 2.512596607208252 \n",
            "Epoch: 289 | MAE Train Loss: 0.0 | MAE Test Loss: 2.512596607208252 \n",
            "Epoch: 290 | MAE Train Loss: 0.0 | MAE Test Loss: 2.512596607208252 \n",
            "Epoch: 291 | MAE Train Loss: 0.0 | MAE Test Loss: 2.512596607208252 \n",
            "Epoch: 292 | MAE Train Loss: 0.0 | MAE Test Loss: 2.512596607208252 \n",
            "Epoch: 293 | MAE Train Loss: 0.0 | MAE Test Loss: 2.512596607208252 \n",
            "Epoch: 294 | MAE Train Loss: 0.0 | MAE Test Loss: 2.512596607208252 \n",
            "Epoch: 295 | MAE Train Loss: 0.0 | MAE Test Loss: 2.512596607208252 \n",
            "Epoch: 296 | MAE Train Loss: 0.0 | MAE Test Loss: 2.512596607208252 \n",
            "Epoch: 297 | MAE Train Loss: 0.0 | MAE Test Loss: 2.512596607208252 \n",
            "Epoch: 298 | MAE Train Loss: 0.0 | MAE Test Loss: 2.512596607208252 \n",
            "Epoch: 299 | MAE Train Loss: 0.0 | MAE Test Loss: 2.512596607208252 \n"
          ]
        }
      ]
    },
    {
      "cell_type": "code",
      "source": [
        "# Plot the loss curves\n",
        "plt.plot(epoch_count, train_loss, label=\"Train loss\")\n",
        "plt.plot(epoch_count, test_loss_values, label=\"Test loss\")\n",
        "plt.title(\"Training and test loss curves\")\n",
        "plt.ylabel(\"Loss\")\n",
        "plt.xlabel(\"Epochs\")\n",
        "plt.legend();"
      ],
      "metadata": {
        "colab": {
          "base_uri": "https://localhost:8080/",
          "height": 295
        },
        "id": "M7yf18UvuXAh",
        "outputId": "bc492b44-dcb5-4214-c721-c0dc137bb960"
      },
      "execution_count": 74,
      "outputs": [
        {
          "output_type": "display_data",
          "data": {
            "text/plain": [
              "<Figure size 432x288 with 1 Axes>"
            ],
            "image/png": "[encoded data removed]"
          },
          "metadata": {
            "needs_background": "light"
          }
        }
      ]
    },
    {
      "cell_type": "code",
      "source": [],
      "metadata": {
        "id": "7fLm7gO_uk9g"
      },
      "execution_count": null,
      "outputs": []
    }
  ]
}